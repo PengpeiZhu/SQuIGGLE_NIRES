{
 "cells": [
  {
   "cell_type": "code",
   "execution_count": 152,
   "id": "cd838925",
   "metadata": {
    "ExecuteTime": {
     "end_time": "2022-12-14T16:20:18.417255Z",
     "start_time": "2022-12-14T16:20:18.413138Z"
    }
   },
   "outputs": [],
   "source": [
    "import numpy as np\n",
    "from astropy.io import fits\n",
    "import matplotlib.pyplot as plt\n",
    "from matplotlib.colors import LogNorm\n",
    "import glob\n",
    "import pandas as pd\n",
    "import matplotlib "
   ]
  },
  {
   "cell_type": "code",
   "execution_count": 153,
   "id": "569085e6",
   "metadata": {
    "ExecuteTime": {
     "end_time": "2022-12-14T16:20:31.298021Z",
     "start_time": "2022-12-14T16:20:31.286990Z"
    }
   },
   "outputs": [],
   "source": [
    "def find_files(date, name):\n",
    "    \n",
    "    spec1d_list = glob.glob('NIRES_PypeIt/' + date + '_reduced' + '/Science/' +\n",
    "                           'spec1d*.fits')\n",
    "    target_files = []\n",
    "    for i in range(len(spec1d_list)):\n",
    "        if name in target_list[i]:\n",
    "            target_files.append(target_list[i])\n",
    "    return target_files\n",
    "\n",
    "# this function gets the pypeit 1dspec data\n",
    "def get_1dspec_data(data):\n",
    "    wave = []\n",
    "    for i in range(len(data)):\n",
    "        wave.append(data[i][2])\n",
    "\n",
    "    flux = []\n",
    "    for i in range(len(data)):\n",
    "        flux.append(data[i][3])\n",
    "\n",
    "    ivar = []\n",
    "    for i in range(len(data)):\n",
    "        ivar.append(data[i][4])\n",
    "    useful_data = [wave,flux,ivar]\n",
    "    return useful_data\n",
    "\n",
    "def stack_1order(order):\n",
    "    all_flux = []\n",
    "    all_ivar = []\n",
    "    all_wave = []\n",
    "    for frame_id in range(len(frame_list)):\n",
    "        hdul = fits.open(frame_list[frame_id])\n",
    "        useful_data = get_1dspec_data(hdul[order].data)\n",
    "        all_flux.append(useful_data[1])\n",
    "        all_ivar.append(useful_data[2])\n",
    "        all_wave.append(useful_data[0])\n",
    "    stacked_flux = np.median(all_flux,axis=0)\n",
    "    #stacked_ivar = np.divide(1,np.mean(np.divide(1,all_ivar),axis=0))\n",
    "    stacked_wave = np.median(all_wave,axis=0)\n",
    "    \n",
    "    stacked_data = [stacked_wave,stacked_flux]\n",
    "    return stacked_data"
   ]
  },
  {
   "cell_type": "code",
   "execution_count": 154,
   "id": "313857f1",
   "metadata": {
    "ExecuteTime": {
     "end_time": "2022-12-14T16:20:46.415363Z",
     "start_time": "2022-12-14T16:20:43.136740Z"
    }
   },
   "outputs": [],
   "source": [
    "frame_list = find_files('20180630','HIP56736')\n",
    "\n",
    "orders = [1,2,3,4,5]\n",
    "all_stacked_data = []\n",
    "for i in orders:\n",
    "    all_stacked_data.append(stack_1order(i))"
   ]
  },
  {
   "cell_type": "code",
   "execution_count": null,
   "id": "20540686",
   "metadata": {},
   "outputs": [],
   "source": []
  }
 ],
 "metadata": {
  "kernelspec": {
   "display_name": "Python 3 (ipykernel)",
   "language": "python",
   "name": "python3"
  },
  "language_info": {
   "codemirror_mode": {
    "name": "ipython",
    "version": 3
   },
   "file_extension": ".py",
   "mimetype": "text/x-python",
   "name": "python",
   "nbconvert_exporter": "python",
   "pygments_lexer": "ipython3",
   "version": "3.8.15"
  }
 },
 "nbformat": 4,
 "nbformat_minor": 5
}
