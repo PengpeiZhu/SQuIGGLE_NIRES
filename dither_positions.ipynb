{
 "cells": [
  {
   "cell_type": "code",
   "execution_count": 7,
   "id": "e9c0f92b",
   "metadata": {
    "ExecuteTime": {
     "end_time": "2022-12-06T14:55:28.846768Z",
     "start_time": "2022-12-06T14:55:28.574116Z"
    }
   },
   "outputs": [],
   "source": [
    "# This script is to generate a list of all the targets observed with\n",
    "# their frame number and dither positions (based on YOFFSETS)\n",
    "import numpy as np\n",
    "from astropy.io import fits\n",
    "import matplotlib.pyplot as plt\n",
    "from matplotlib.colors import LogNorm\n",
    "import os\n",
    "import sys\n",
    "import glob\n",
    "import pandas as pd\n",
    "\n",
    "\n",
    "''' NIRES header keywords of interest\n",
    "Dither pattern name: DPATNAME\n",
    "Dither pattern step size in X: DPATSTPX\n",
    "Dither pattern step size in Y: DPATSTPY\n",
    "Current frame dither position X offset: XOFFSET\n",
    "Current frame dither position Y offset: YOFFSET\n",
    "Pixel scale: PSCALE\n",
    "ITIME: Integration time\n",
    "DATAFILE: image saved data file name\n",
    "OBJECT: object name\n",
    "TARGNAME: target name\n",
    "OBSTYPE: observation type\n",
    "'''\n",
    "\n",
    "\n",
    "date ='20181126'\n",
    "# import all the science and telluric frames from one observation\n",
    "frame_list = glob.glob('NIRES/' + date + '/' + 'Science&Telluric/s*.fits')\n",
    "\n",
    "all_headers = []\n",
    "for frame in range(len(frame_list)):\n",
    "    hdul = fits.open(frame_list[frame])\n",
    "    all_headers.append(hdul[0].header)\n",
    "    hdul.close()\n",
    "\n",
    "dither_pattern = []\n",
    "framenum = []\n",
    "targname = []\n",
    "for i in range(len(all_headers)):\n",
    "    if 'J' in all_headers[i]['TARGNAME']:\n",
    "        framenum.append(all_headers[i]['FRAMENUM'])\n",
    "        targname.append(all_headers[i]['TARGNAME'])\n",
    "        if all_headers[i]['YOFFSET'] == -5:\n",
    "            dither_pattern.append('A')\n",
    "        elif all_headers[i]['YOFFSET'] == 0:\n",
    "            dither_pattern.append('B')\n",
    "        elif all_headers[i]['YOFFSET'] == 5:\n",
    "            dither_pattern.append('C')\n",
    "            \n",
    "    elif 'H' in all_headers[i]['TARGNAME']:\n",
    "        framenum.append(all_headers[i]['FRAMENUM'])\n",
    "        targname.append(all_headers[i]['TARGNAME'])\n",
    "        dither_pattern.append(all_headers[i]['YOFFSET'])\n",
    "data = {'FRAMENUM':framenum,'TARGNAME':targname,'DITHER':dither_pattern}\n",
    "\n",
    "df = pd.DataFrame(data)\n",
    "df = df.sort_values(by='FRAMENUM')\n",
    "df.to_csv(f'NIRES_PypeIt/{date}_reduced/{date}_ditherpattern.csv',index = False)"
   ]
  },
  {
   "cell_type": "code",
   "execution_count": null,
   "id": "48012007",
   "metadata": {},
   "outputs": [],
   "source": []
  }
 ],
 "metadata": {
  "kernelspec": {
   "display_name": "Python 3 (ipykernel)",
   "language": "python",
   "name": "python3"
  },
  "language_info": {
   "codemirror_mode": {
    "name": "ipython",
    "version": 3
   },
   "file_extension": ".py",
   "mimetype": "text/x-python",
   "name": "python",
   "nbconvert_exporter": "python",
   "pygments_lexer": "ipython3",
   "version": "3.8.15"
  }
 },
 "nbformat": 4,
 "nbformat_minor": 5
}
